{
  "nbformat": 4,
  "nbformat_minor": 0,
  "metadata": {
    "colab": {
      "provenance": [],
      "include_colab_link": true
    },
    "kernelspec": {
      "name": "python3",
      "display_name": "Python 3"
    }
  },
  "cells": [
    {
      "cell_type": "markdown",
      "metadata": {
        "id": "view-in-github",
        "colab_type": "text"
      },
      "source": [
        "<a href=\"https://colab.research.google.com/github/JosephBless/models/blob/master/stochastic_trajectory_prediction_tutorial.ipynb\" target=\"_parent\"><img src=\"https://colab.research.google.com/assets/colab-badge.svg\" alt=\"Open In Colab\"/></a>"
      ]
    },
    {
      "cell_type": "markdown",
      "metadata": {
        "id": "ZaL0g6iz1Aa8"
      },
      "source": [
        "# Tutorial on Stochastic Trajectory Prediction"
      ]
    },
    {
      "cell_type": "markdown",
      "metadata": {
        "id": "cCsaGrGF1nSA"
      },
      "source": [
        "# Introduction\n",
        "\n",
        "This tutorial is meant as an introduction to the problem of trajectory generation. It introduces several ways for modelling the motion of agents in pixel space and proposes several ways of preprocessing data. It follows the structure from its associated [GitHub repository](https://github.com/yadrimz/Stochastic-Futures-Prediction). Feel free to skip to the end to see the performance of 2 basic models.\n",
        "\n",
        "The acquisition of neural-based solutions such as Long Shrort-Term Memory [1] has become very common for modelling time series signals in the past few years. Some popular and well established examples include different applications of AI; and namely speech processing [2], language modelling [3], translation [4] among many others. In particular, the idea behind LSTMs is that they are good at mimicing the hidden dynamics behind a given short sequence.\n",
        "\n",
        "The overall structure of such networks (see the figure bellow, taken from [Chris Olah's](http://colah.github.io/posts/2015-08-Understanding-LSTMs/) blog post which is a great introduction to LSTMs along with [Chapter 10 of the book \"Deep Learning\"](http://www.deeplearningbook.org/contents/rnn.html)) allows us to model each step while taking into account all previously considered ones in a given signal. In the context of text modelling, those signals can be all previously observed words in a given sentence where each step would consist of predicting one word by conditioning on all previously seen words. In this context, LSTMs are good at encapsulating the context behind a given sentence which makes them a good candidate for predicting its continuation.\n",
        "![LSTM-Chris Olah](http://colah.github.io/posts/2015-08-Understanding-LSTMs/img/LSTM3-chain.png)\n",
        "\n",
        "Similarly, we can model the dynamics associated with the motion of pedestrians in crowded scenes, the behaviour of agents in different games, moving cars on a busy road etc. In such cases, the task would be to predict where each considered agent will be after some time. This post is an introduction to the use of LSTMs in such problems.\n",
        "\n",
        "We will focus on predicting the next few 2D positions (x,y) of pedestrians from annotated videos. We will assume a good understanding of what LSTMs are, the difficulties behind extracting meaningful feature representations as well as basic computer science knowledge, algebra and calculus, and some prior knowledge of using Tensorflow. We aim to conclude with a brief discussion of the pros and cons of using the introduced here use of LSTMS.\n",
        "\n",
        "Anticipating the position of pedestrians in a given video sequence is often a challenging task even for humans. Motion is often dictated by some unspoken rules that are different across cultures and are in addition interpreted differently by people. For example, when walking in crowded scenes we might aim to avoid collisions with others, but we can also aim to reach someone specific and stop in front of them. In such cases it is relatively difficult for an observer to anticipate what would be the goal of someone walking in the scene in the next 5-10 minutes just by observing but we can relatively easily tell where a pedestrian aims to be in the next 5-10 seconds. Regardless, we often maintain a few hypothesis of where this person will be and thus modelling such motions using purely deterministic approaches (such as simply using standard LSTMs) can be very hard. An alternative solution would be to train a neural network to model the sufficient statistics of the distribution the next step is sampled from.\n"
      ]
    },
    {
      "cell_type": "markdown",
      "metadata": {
        "id": "N2aNotauY5qV"
      },
      "source": [
        "**Initialization**\n",
        "\n",
        "We begin by installing tensorflow and downloading the github code described in this blog post. We then import everything necessary including all datasets we will use for training, followed by assigning all constant variables we will need for training the network."
      ]
    },
    {
      "cell_type": "code",
      "metadata": {
        "id": "U1gZ-QqyYnAA",
        "outputId": "970b2f76-64b8-4e1e-f28e-9eee853633d6",
        "colab": {
          "base_uri": "https://localhost:8080/",
          "height": 513
        }
      },
      "source": [
        "!pip install tensorflow==1.15.0\n",
        "!git clone https://github.com/yadrimz/Stochastic-Futures-Prediction.git"
      ],
      "execution_count": null,
      "outputs": [
        {
          "output_type": "stream",
          "text": [
            "Requirement already satisfied: tensorflow==1.15.0 in /usr/local/lib/python3.6/dist-packages (1.15.0)\n",
            "Requirement already satisfied: wrapt>=1.11.1 in /usr/local/lib/python3.6/dist-packages (from tensorflow==1.15.0) (1.11.2)\n",
            "Requirement already satisfied: google-pasta>=0.1.6 in /usr/local/lib/python3.6/dist-packages (from tensorflow==1.15.0) (0.1.8)\n",
            "Requirement already satisfied: astor>=0.6.0 in /usr/local/lib/python3.6/dist-packages (from tensorflow==1.15.0) (0.8.1)\n",
            "Requirement already satisfied: opt-einsum>=2.3.2 in /usr/local/lib/python3.6/dist-packages (from tensorflow==1.15.0) (3.1.0)\n",
            "Requirement already satisfied: protobuf>=3.6.1 in /usr/local/lib/python3.6/dist-packages (from tensorflow==1.15.0) (3.10.0)\n",
            "Requirement already satisfied: numpy<2.0,>=1.16.0 in /usr/local/lib/python3.6/dist-packages (from tensorflow==1.15.0) (1.17.5)\n",
            "Requirement already satisfied: tensorflow-estimator==1.15.1 in /usr/local/lib/python3.6/dist-packages (from tensorflow==1.15.0) (1.15.1)\n",
            "Requirement already satisfied: termcolor>=1.1.0 in /usr/local/lib/python3.6/dist-packages (from tensorflow==1.15.0) (1.1.0)\n",
            "Requirement already satisfied: keras-preprocessing>=1.0.5 in /usr/local/lib/python3.6/dist-packages (from tensorflow==1.15.0) (1.1.0)\n",
            "Requirement already satisfied: wheel>=0.26 in /usr/local/lib/python3.6/dist-packages (from tensorflow==1.15.0) (0.34.2)\n",
            "Requirement already satisfied: six>=1.10.0 in /usr/local/lib/python3.6/dist-packages (from tensorflow==1.15.0) (1.12.0)\n",
            "Requirement already satisfied: tensorboard<1.16.0,>=1.15.0 in /usr/local/lib/python3.6/dist-packages (from tensorflow==1.15.0) (1.15.0)\n",
            "Requirement already satisfied: gast==0.2.2 in /usr/local/lib/python3.6/dist-packages (from tensorflow==1.15.0) (0.2.2)\n",
            "Requirement already satisfied: grpcio>=1.8.6 in /usr/local/lib/python3.6/dist-packages (from tensorflow==1.15.0) (1.27.1)\n",
            "Requirement already satisfied: keras-applications>=1.0.8 in /usr/local/lib/python3.6/dist-packages (from tensorflow==1.15.0) (1.0.8)\n",
            "Requirement already satisfied: absl-py>=0.7.0 in /usr/local/lib/python3.6/dist-packages (from tensorflow==1.15.0) (0.9.0)\n",
            "Requirement already satisfied: setuptools in /usr/local/lib/python3.6/dist-packages (from protobuf>=3.6.1->tensorflow==1.15.0) (45.1.0)\n",
            "Requirement already satisfied: werkzeug>=0.11.15 in /usr/local/lib/python3.6/dist-packages (from tensorboard<1.16.0,>=1.15.0->tensorflow==1.15.0) (1.0.0)\n",
            "Requirement already satisfied: markdown>=2.6.8 in /usr/local/lib/python3.6/dist-packages (from tensorboard<1.16.0,>=1.15.0->tensorflow==1.15.0) (3.2.1)\n",
            "Requirement already satisfied: h5py in /usr/local/lib/python3.6/dist-packages (from keras-applications>=1.0.8->tensorflow==1.15.0) (2.8.0)\n",
            "Cloning into 'Stochastic-Futures-Prediction'...\n",
            "remote: Enumerating objects: 77, done.\u001b[K\n",
            "remote: Counting objects: 100% (77/77), done.\u001b[K\n",
            "remote: Compressing objects: 100% (67/67), done.\u001b[K\n",
            "remote: Total 204 (delta 35), reused 34 (delta 9), pack-reused 127\u001b[K\n",
            "Receiving objects: 100% (204/204), 51.77 MiB | 32.94 MiB/s, done.\n",
            "Resolving deltas: 100% (77/77), done.\n"
          ],
          "name": "stdout"
        }
      ]
    },
    {
      "cell_type": "code",
      "metadata": {
        "id": "wu7d_-LGZHye",
        "outputId": "45cfd1c9-f5ad-4165-f386-89697b2f8ebc",
        "colab": {
          "base_uri": "https://localhost:8080/",
          "height": 34
        }
      },
      "source": [
        "%cd Stochastic-Futures-Prediction"
      ],
      "execution_count": null,
      "outputs": [
        {
          "output_type": "stream",
          "text": [
            "/content/Stochastic-Futures-Prediction\n"
          ],
          "name": "stdout"
        }
      ]
    },
    {
      "cell_type": "markdown",
      "metadata": {
        "id": "XKhTwf-HZRkP"
      },
      "source": [
        "## Problem Formulation\n",
        "This work's focus is on predicting the future motion of an arbitrary number of observed agents (i.e. their behaviour) whose action spaces and objectives are unknown. More specifically, we focus on predicting the two-dimensional motion of agents in video sequences.\n",
        "\n",
        "We assume we are given a history of two-dimensional position annotations and video frames as a sequence of RGB images.\n",
        "Each agent $a$ ($a \\in [1 \\ldots A]$, where $A$ is the maximum number of agents in the video) is represented by a state ($s_t^a$) which comprises xy-coordinates at time $t$, $s_t^a = (x_t,y_t)_a$. Given a sequence of $obs$ observed states $S = \\{s_{t-obs}, s_{t-obs+1}, \\ldots, s_{t-1}, s_{t} \\}$, we will formulate the prediction as an optimisation process, where the objective is to learn a posterior distribution $P(Y | S)$, of multiple agents' future trajectories $Y$. Here an individual agent's future trajectory is defined as ($s_t^a = \\{s_{t+1}^a, s_{t+2}^a, \\ldots, s_{t+pred}^a\\}$) for $pred$ steps ahead for every agent $a$ found in a given frame at time $t$."
      ]
    },
    {
      "cell_type": "code",
      "metadata": {
        "id": "3YHx0-lOZMMc"
      },
      "source": [
        "import os\n",
        "import time\n",
        "\n",
        "%tensorflow_version 1.x\n",
        "\n",
        "import numpy as np\n",
        "import tensorflow as tf\n",
        "\n",
        "import utils.data_tools as data_tools\n",
        "import utils.visualisation as visualisation\n",
        "import utils.distributions as distributions\n",
        "\n",
        "from models.lstm import BasicLSTM\n",
        "from models.lstm import reset_graph\n"
      ],
      "execution_count": null,
      "outputs": []
    },
    {
      "cell_type": "markdown",
      "metadata": {
        "id": "fJXyLRjXZaaK"
      },
      "source": [
        "## Datasets Used\n",
        "Before considering the details around modelling such tasks, we should spend some time to consider the datasets we will use as well as the preprocessing routines we will consider.\n",
        "\n",
        "In this post, we consider four different datasets and namely, ETH University, ETH Hotel [5] (see next 2 photos as examples), and Zara1,2 [7]. Photos of the first two can be seen below."
      ]
    },
    {
      "cell_type": "code",
      "metadata": {
        "id": "T9cB4Ts9Z0Wu"
      },
      "source": [
        "training_directories = ['data/eth/univ',\n",
        "                 'data/ucy/zara/zara01',\n",
        "                 'data/ucy/zara/zara02']"
      ],
      "execution_count": null,
      "outputs": []
    },
    {
      "cell_type": "markdown",
      "metadata": {
        "id": "6Gr3lWYIZ3Sz"
      },
      "source": [
        "![ETH University](https://dev.bg/wp-content/uploads/2018/11/eth_univ.png)\n",
        "\n",
        "![ETH Hotel](https://dev.bg/wp-content/uploads/2018/11/eth_hotel.png)"
      ]
    },
    {
      "cell_type": "markdown",
      "metadata": {
        "id": "gnu9aq-OZul7"
      },
      "source": [
        "### Data Processing\n",
        "In these examples we are interested in figuring out the exact pixel location of each individual pedestrian (agent), as well as the associated frames we consider. All four datasets give us annotated positions but differ slightly in representation. Thus, as a first step we ensure they are aligned.\n",
        "\n",
        "This is common across datasets when they have been built by different groups and projects and have slight misalignments. All four datasets have been recorded on 25Hz and consist on average of 3000 frames. The ETH datasets are comprised of 750 agents each while Zara has two scenes each with 786 agents. All videos include people walking on their own, as well as pedestrians moving in groups in a nonlinear manner. However, some of the videos annotate trajectories in mm in a world reference frame and others have recorded them in pixel coordinates with (0,0) considered in the centre of each video frame. We will process all of them ensuring all positions are represented in pixel positions with (0,0) placed in the bottom left corner. We will further normalise them between 0 and 1 such that the size of the image or the roadwalk considered do not bias our solution."
      ]
    },
    {
      "cell_type": "markdown",
      "metadata": {
        "id": "1FiXORbrDtxm"
      },
      "source": [
        "### Processing examples\n",
        "To simplify this post we will consider transforming 1 of the 4 datasets and leave the rest out. The aim is to clarify how such processing is achieved. The rest of the processing is similar to the one described here and can be further found in the [GitHub repository of this post](https://github.com/yadrimz/Stochastic-Futures-Prediction). This part, however, is not  necessary to understand the details around the actual model.\n",
        "\n",
        "**ETH Hotel**\n",
        "is comprised of positions in world reference frame where we are interested in converting these to local, pixel reference frame. To do this, we are given the required homography.\n",
        "\n",
        "\n",
        "\n",
        "```\n",
        "def world_to_image_frame(loc, Hinv):\n",
        "  \"\"\"\n",
        "  Given H^-1 and (x, y, z) in world coordinates, returns (u, v, 1) in image\n",
        "  frame coordinates.\n",
        "  \"\"\"\n",
        "  loc = np.dot(Hinv, loc) # to camera frame\n",
        "  return loc/loc[2] # to pixels (from millimeters)\n",
        "```\n",
        "Those interested in the mathematics behind the introduced conversion can read more about it in [Taku Komura's lecture slides](http://www.inf.ed.ac.uk/teaching/courses/cg/lectures/cg3_2013.pdf). Further we normalise the data using the minimum and maximum recorded values which results in the following method.\n",
        "\n",
        "\n",
        "\n",
        "```\n",
        "def mil_to_pixels(directory=[\"./data/ewap_dataset/seq_hotel\"]):\n",
        "    '''\n",
        "    Preprocess the frames from the datasets.\n",
        "    Convert values to pixel locations from millimeters\n",
        "    obtain and store all frames data the actually used frames (as some are skipped),\n",
        "    the ids of all pedestrians that are present at each of those frames and the sufficient statistics.\n",
        "    '''\n",
        "    def collect_stats(agents):\n",
        "        x_pos = []\n",
        "        y_pos = []\n",
        "        for agent_id in range(1, len(agents)):\n",
        "            trajectory = [[] for _ in range(3)]\n",
        "            traj = agents[agent_id]\n",
        "            for step in traj:\n",
        "                x_pos.append(step[1])\n",
        "                y_pos.append(step[2])\n",
        "        x_pos = np.asarray(x_pos)\n",
        "        y_pos = np.asarray(y_pos)\n",
        "        # takes the average over all points through all agents\n",
        "        return [[np.min(x_pos), np.max(x_pos)], [np.min(y_pos), np.max(y_pos)]]\n",
        "\n",
        "    Hfile = os.path.join(directory, \"H.txt\")\n",
        "    obsfile = os.path.join(directory, \"obsmat.txt\")\n",
        "    # Parse homography matrix.\n",
        "    H = np.loadtxt(Hfile)\n",
        "    Hinv = np.linalg.inv(H)\n",
        "    # Parse pedestrian annotations.\n",
        "    frames, pedsInFrame, agents = parse_annotations(Hinv, obsfile)\n",
        "    # collect mean and std\n",
        "    statistics = collect_stats(agents)\n",
        "    norm_agents = []\n",
        "    # collect the id, normalised x and normalised y of each agent's position\n",
        "    pedsWithPos = []\n",
        "    for agent in agents:\n",
        "        norm_traj = []\n",
        "        for step in agent:\n",
        "            _x = (step[1] - statistics[0][0]) / (statistics[0][1] - statistics[0][0])\n",
        "            _y = (step[2] - statistics[1][0]) / (statistics[1][1] - statistics[1][0])\n",
        "            norm_traj.append([int(frames[int(step[0])]), _x, _y])\n",
        "\n",
        "        norm_agents.append(np.array(norm_traj))\n",
        "\n",
        "    return np.array(norm_agents), statistics, pedsInFrame\n",
        "```\n",
        "\n",
        "Lines 8 to 20 find the minimum and maximum values for the x and y positions of the agents. The called \"obsmat.txt\" file contains the annotated data and is comprised of the frame number, the pedestrian id, position in the x axis in the world frame, position in the y, z as well as their associated 3 velocities. More information can be found in the README.txt file within the dataset directory. In this post we are only interested in considering the frame, the pedestrian's id and their x and y positions.\n",
        "\n",
        "Lines 34-41 are associated with the ordering of pedestrians across frames along the pedestrian id.\n",
        "\n",
        "Line 29 calls parse_annotations() parses the collected data and converts it to reference frame.\n",
        "\n",
        "\n",
        "\n",
        "```\n",
        "def parse_annotations(Hinv, obsmat_txt):\n",
        "    '''\n",
        "    Parse the dataset and convert to image frames data.\n",
        "    '''\n",
        "    mat = np.loadtxt(obsmat_txt)\n",
        "    num_peds = int(np.max(mat[:,1])) + 1\n",
        "    peds = [np.array([]).reshape(0,4) for _ in range(num_peds)] # maps ped ID -> (t,x,y,z) path\n",
        "    \n",
        "    num_frames = (mat[-1,0] + 1).astype(\"int\")\n",
        "    num_unique_frames = np.unique(mat[:,0]).size\n",
        "    recorded_frames = [-1] * num_unique_frames # maps timestep -> (first) frame\n",
        "    peds_in_frame = [[] for _ in range(num_unique_frames)] # maps timestep -> ped IDs\n",
        "\n",
        "    frame = 0\n",
        "    time = -1\n",
        "    blqk = False\n",
        "    for row in mat:\n",
        "        if row[0] != frame:\n",
        "            frame = int(row[0])\n",
        "            time += 1\n",
        "            recorded_frames[time] = frame\n",
        "\n",
        "        ped = int(row[1])\n",
        "\n",
        "        peds_in_frame[time].append(ped)\n",
        "        loc = np.array([row[2], row[4], 1])\n",
        "        loc = to_image_frame(loc)\n",
        "        loc = [time, loc[0], loc[1], loc[2]]\n",
        "        peds[ped] = np.vstack((peds[ped], loc))\n",
        "\n",
        "    return recorded_frames, peds_in_frame, peds\n",
        "\n",
        "```\n",
        "\n",
        "\n",
        "\n",
        "\n",
        "\n",
        "\n",
        "\n"
      ]
    },
    {
      "cell_type": "markdown",
      "metadata": {
        "id": "bzyqHBTdaypy"
      },
      "source": [
        "We can combine the preprocessing of all datasets in a single function. Ideally, we will save the preprocessed data and load it directly each time we need to use it. Once this is done we can then call a function that loads the preprocessed data in the format we need it in. It will be useful to split the trajectories in a chosen in advance sequence length. We can then easily compute the number of batches we will get if we specified a batch size too."
      ]
    },
    {
      "cell_type": "code",
      "metadata": {
        "id": "oDAl0sQ6aECb"
      },
      "source": [
        "BATCH_SIZE = 50\n",
        "SEQUENCE_LENGTH = 8"
      ],
      "execution_count": null,
      "outputs": []
    },
    {
      "cell_type": "code",
      "metadata": {
        "id": "ybCA3B4oaWQS"
      },
      "source": [
        "agents_data, dicto, dataset_indices = \\\n",
        "  data_tools.preprocess(training_directories)\n",
        "\n",
        "loaded_data, num_batches = \\\n",
        "  data_tools.load_preprocessed(agents_data, BATCH_SIZE, SEQUENCE_LENGTH)"
      ],
      "execution_count": null,
      "outputs": []
    },
    {
      "cell_type": "markdown",
      "metadata": {
        "id": "KLAFBeLxaK-9"
      },
      "source": [
        "**Batching**\n",
        "\n",
        "After obtaining and pre-processing all the information we need to implement a routine for sampling random batches that ensure the samples will be comprised of unbroken sequences. One thing to keep in mind is that some of the sampled trajectories might be shorter than some given sequence length and others might be longer. In the former case, we would like to avoid such trajectories, while in the latter we want to split the trajectories in multiple samples. We will do this by defining a function called \"next_batch()\" that will take in as input the associated data, required batch size, a frame pointer that indicates the currently considered starting point, desired sequence length, maximum number of pedestrians in the considered sequence across all datasets, the current dataset pointer and whether or not we are sampling during inference or training time.\n",
        "\n",
        "\n",
        "\n",
        "```\n",
        "def next_batch(_data, pointer, batch_size, sequence_length, infer=False):\n",
        "    '''\n",
        "    Function to get the next batch of points\n",
        "    '''\n",
        "    # List of source and target data for the current batch\n",
        "    x_batch = []\n",
        "    y_batch = []\n",
        "    # For each sequence in the batch\n",
        "    for i in range(batch_size):\n",
        "        # Extract the trajectory of the pedestrian pointed out by pointer\n",
        "        traj = _data[pointer]\n",
        "        # Number of sequences corresponding to his trajectory\n",
        "        n_batch = int(traj.shape[0] / (sequence_length+1))\n",
        "        # Randomly sample an index from which his trajectory is to be considered\n",
        "        if not infer:\n",
        "            idx = random.randint(0, traj.shape[0] - sequence_length - 1)\n",
        "        else:\n",
        "            idx = 0\n",
        "\n",
        "        # Append the trajectory from idx until sequence_length into source and target data\n",
        "        x_batch.append(np.copy(traj[idx:idx+sequence_length, :]))\n",
        "        y_batch.append(np.copy(traj[idx+1:idx+sequence_length+1, :]))\n",
        "\n",
        "        if random.random() < (1.0/float(n_batch)):\n",
        "            # Adjust sampling probability\n",
        "            # if this is a long datapoint, sample this data more with\n",
        "            # higher probability\n",
        "            pointer = tick_batch_pointer(pointer, len(_data))\n",
        "\n",
        "    return x_batch, y_batch, pointer\n",
        "```\n",
        "Now that we have ensured we have the required data processed and have an associated batching function we can focus on building the actual model."
      ]
    },
    {
      "cell_type": "markdown",
      "metadata": {
        "id": "GN61TvZeeTjO"
      },
      "source": [
        "# Methodology - Stochastic LSTMs\n",
        "\n",
        "In this blog's experiments we will utilise the aforementioned (x,y) coordinate representations as input to the network. Since each of these coordinate representations is associated with a specific agent who will interact with each other, it is important to separate the associated sequences and acknowledge that each prediction will be dependent on the previous sequences observed for a given agent.\n"
      ]
    },
    {
      "cell_type": "markdown",
      "metadata": {
        "id": "Y0G7ORRKc2tW"
      },
      "source": [
        "\n",
        "## Implementation Details\n",
        "\n",
        "As we already mentioned, we assume a good understanding of LSTMs. As input to the network we use a sequence of positions of a given agent and each step will be converted to a 128 dimensional feature vector. This conversion happens through a linear operation and a nonlinear, [ReLU (Rectified Linear Output)](http://cs231n.github.io/neural-networks-1/) activation.\n",
        "\n",
        "```\n",
        "def embed_inputs(self, inputs, embedding_w, embedding_b):\n",
        "  # embed the inputs\n",
        "  with tf.name_scope(\"Embed_inputs\"):\n",
        "    embedded_inputs = []\n",
        "    for x in inputs:\n",
        "        # Each x is a 2D tensor of size numPoints x 2\n",
        "        embedded_x = tf.nn.relu(tf.add(tf.matmul(x, embedding_w), embedding_b))\n",
        "        embedded_inputs.append(embedded_x)\n",
        "\n",
        "    return embedded_inputs\n",
        "```\n",
        "Now that we have a relatively good representation of the input we can feed it through the LSTM model. To do this, we will use 128 dimensional hidden cell state. We chose the hyperparameterisation proposed in [6], [12] where the authors chose them using cross-validation applied on a syntetic dataset. We use learning rate of 0.003, with annealing term of 0.95 and use RMS-prop [5] and L2 regularisation with $\\lambda=0.5$ and clip our gradients between -10 and 10."
      ]
    },
    {
      "cell_type": "code",
      "metadata": {
        "id": "OkpO3TUOczL9"
      },
      "source": [
        "NUM_EPOCHS = 100\n",
        "DECAY_RATE = 0.95\n",
        "GRAD_CLIP = 10\n",
        "LR = 0.003\n",
        "NUM_UNITS = 128\n",
        "EMBEDDING = 128\n",
        "MODE = 'train'\n",
        "\n",
        "SAVE_PATH='save'\n",
        "\n",
        "avg_time = 0 # used for printing\n",
        "avg_loss = 0 # used for printing"
      ],
      "execution_count": null,
      "outputs": []
    },
    {
      "cell_type": "markdown",
      "metadata": {
        "id": "tNHNB9__ik0f"
      },
      "source": [
        "\n",
        "\n",
        "We achieve this task by updating the associated with the LSTM cell state at each step as follows:\n",
        "\n",
        "\n",
        "\n",
        "```\n",
        "def lstm_advance(self, embedded_inputs, cell, scope_name=\"LSTM\"):\n",
        "  # advance the lstm cell state with one for each entry\n",
        "  with tf.variable_scope(scope_name) as scope:\n",
        "    state = self.initial_state\n",
        "    outputs = []\n",
        "    for i, inp in enumerate(embedded_inputs):\n",
        "      if i > 0:\n",
        "        scope.reuse_variables()\n",
        "      output, last_state = cell(inp, state)\n",
        "      outputs.append(output)\n",
        "\n",
        "    return outputs, last_state\n",
        "```\n",
        "\n",
        "Having done this, we can now convert the output from the LSTM in a 5 dimensional output.\n",
        "\n",
        "\n",
        "```\n",
        "def final_layer(self, outputs, output_w, output_b):\n",
        "  with tf.name_scope(\"Final_layer\"):\n",
        "    # Apply the linear layer. Output would be a\n",
        "    # tensor of shape 1 x output_size\n",
        "    output = tf.reshape(tf.concat(outputs, 1), [-1, self.num_units])\n",
        "    output = tf.nn.xw_plus_b(output, output_w, output_b)\n",
        "    return output\n",
        "```\n",
        "\n",
        "We will use this output to define the distribution we will sample a predicted position $y_t$ and namely a 2D Gaussian distribution with a mean value $\\mu = [\\mu_x, \\mu_y]$, standard deviation $\\sigma = [\\sigma_x, \\sigma_y]$ and correlation $\\rho$, similar to the described approach in [8].\n",
        "\n",
        "$\n",
        "\\begin{equation}\n",
        "      \\{x_t, y_t\\} \\in R \\times R \\times \\{0, 1\\}\n",
        "\\end{equation}\n",
        "$\n",
        "\n",
        "Please note that these $x_t$ and $y_t$ are different from the $(x,y)$ coordinates. In this case, $(x, y)_t$ represent input and output to the proposed model at time $t$. We indicate the output of the proposed model as $\\hat{y_t}$ and namely:\n",
        "\n",
        "$\n",
        "\\begin{equation}\n",
        "     \\hat{y_t} = \\big{(}\\{\\mu_t, \\sigma_t, \\rho_t\\}\\big{)} = b_y + \\sum^{N}_{n=1}W_{h^ny}h^n_t\n",
        "\\end{equation}\n",
        "$\n",
        "\n",
        "In this case, $b_y$ is the associated bias, $W$ are the parameters of the last layer's feedforward layer and $h$ are the hidden output parameters from the LSTM. We ensure that the output representing the standard deviation will always be positive by representing the output of the network using an exponential function and ensure that the correlation term will be scaled between -1 and 1 using $tanh$.\n",
        "\n",
        "$\n",
        "\\begin{equation}\n",
        "     \\mu_t = \\hat{\\mu}_t \\implies \\mu_t \\in R \\\\\n",
        "     \\sigma_t = exp\\big{(}\\hat{\\sigma}_t \\big{)} \\implies \\sigma_t > 0 \\\\\n",
        "     \\rho_t = tanh(\\hat{\\rho}_t) \\implies \\rho_t \\in (-1, 1)\n",
        "\\end{equation}\n",
        "$\n",
        "\n",
        "We can then define the probability $p(x_{t+1}|y_y)$ utilising the previous target $y_t$ can be defined as:\n",
        "\n",
        "$\n",
        "\\begin{equation}\n",
        "     p(x_{t+1}|y_y) = N(x_{t+1}|\\mu_t, \\sigma_t, \\rho_t),\\ for \\\\\n",
        "  N(x|\\mu, \\sigma, \\rho) = {1\\over{2\\pi\\sigma_1\\sigma_2\\sqrt{1-\\rho^2}}}exp\\big{[}{-Z\\over{2(1-\\rho^2})}\\big{]},\\ with \\\\\n",
        "  Z = {(x_1 - \\mu_1)^2\\over{\\sigma_1^2}} + {(x_2 - \\mu_2)^2\\over{\\sigma_2^2}} - {2\\rho(x_1-\\mu_1)(x_2-\\mu_2)\\over{\\sigma_1\\sigma_2}} \\\\\n",
        "\\end{equation}\n",
        "$\n",
        "\n",
        "With this we obtain a loss function which is exact to a constant and depends entirely on the quantisation of the actual information and is in no way affecting the training of the network.\n",
        "\n",
        "$\n",
        "\\mathcal{L} = \\sum^T_{t=1}-log\\big{(}N(x_{t+1}|\\mu_t, \\sigma_t, \\rho_t)\\big{)}\n",
        "$\n",
        "\n",
        "Further, we can extract the partial derivatives for the five components and obtain:\n",
        "\n",
        "$\n",
        "{{\n",
        "  \\partial log N(x|\\mu,\\sigma,\\rho)\n",
        "}\\over{\n",
        "  \\partial \\hat{\\mu}_1\n",
        "}} =  {{C}\\over{\\sigma_1}}\n",
        "\\big{(}\n",
        "{{x_1 - \\mu_1}\\over{\\sigma_1}} - {{\\rho(x_2 - \\mu_2)}\\over{\\sigma_2}}\\big{)} \\\\\n",
        "{{\n",
        "  \\partial log N(x|\\mu,\\sigma,\\rho)\n",
        "}\\over{\n",
        "  \\partial \\hat{\\mu}_2\n",
        "}} =  {{C}\\over{\\sigma_1}}\n",
        "\\big{(}\n",
        "{{x_2 - \\mu_2}\\over{\\sigma_2}} - {{\\rho(x_1 - \\mu_1)}\\over{\\sigma_1}}\\big{)}\\\\\n",
        "{{\n",
        "  \\partial log N(x|\\mu,\\sigma,\\rho)\n",
        "}\\over{\n",
        "  \\partial \\hat{\\sigma}_1\n",
        "}} =\n",
        "  {{C(x_1 - \\mu_1)}\\over{\\sigma_1}}\n",
        "  \\big{(} {{x_1 - \\mu_1}\\over{\\sigma_1}} - {{\\rho(x_2-\\mu_2)}\\over{\\sigma_2}} \\big{)}\\\\\n",
        "{{\n",
        "  \\partial log N(x|\\mu,\\sigma,\\rho)\n",
        "}\\over{\n",
        "  \\partial \\hat{\\sigma}_2\n",
        "}} =\n",
        "  {{C(x_2 - \\mu_2)}\\over{\\sigma_2}}\n",
        "  \\big{(} {{x_2 - \\mu_2}\\over{\\sigma_2}} - {{\\rho(x_1-\\mu_1)}\\over{\\sigma_1}} \\big{)} \\\\\n",
        "{{\n",
        "  \\partial log N(x|\\mu,\\sigma,\\rho)\n",
        "}\\over{\n",
        "  \\partial \\hat{\\rho}\n",
        "}} = {\n",
        "  {(x_1-\\mu_1)(x_2 - \\mu_2)}\\over{\\sigma_1\\sigma_2}\n",
        "} + \\rho(1-CZ) \\\\\n",
        "C = {{1}\\over{1-\\rho^2}}\n",
        "$\n",
        "\n",
        "As code, we can implement the associated loss function with the following 2 functions:\n",
        "\n",
        "\n",
        "\n",
        "\n",
        "```\n",
        "def get_lossfunc(g, z_mux, z_muy, z_sx, z_sy, z_corr, x_data, y_data):\n",
        "  # Calculate the PDF of the data w.r.t to the distribution\n",
        "  result0 = \\\n",
        "    distributions.tf_2d_normal(g, x_data, y_data, z_mux, z_muy, z_sx, z_sy, z_corr)\n",
        "\n",
        "  # For numerical stability purposes as in Vemula (2018)\n",
        "  epsilon = 1e-20\n",
        "\n",
        "  # Numerical stability\n",
        "  result1 = -tf.log(tf.maximum(result0, epsilon))\n",
        "\n",
        "  return tf.reduce_sum(result1)\n",
        "\n",
        "def tf_2d_normal(g, x, y, mux, muy, sx, sy, rho):\n",
        "  '''\n",
        "  Function that computes a multivariate Gaussian\n",
        "  Equation taken from 24 & 25 in Graves (2013)\n",
        "  '''\n",
        "  with g.as_default():\n",
        "    # Calculate (x-mux) and (y-muy)\n",
        "    normx = tf.subtract(x, mux)\n",
        "    normy = tf.subtract(y, muy)\n",
        "    # Calculate sx*sy\n",
        "    sxsy = tf.multiply(sx, sy)\n",
        "    # Calculate the exponential factor\n",
        "    z = tf.square(tf.divide(normx, sx)) + \\\n",
        "        tf.square(tf.divide(normy, sy)) - \\\n",
        "        2*tf.divide(\n",
        "          tf.multiply(rho, tf.multiply(normx, normy)),\n",
        "          sxsy)\n",
        "  \n",
        "    negatedRho = 1 - tf.square(rho)\n",
        "    # Numerator\n",
        "    result = tf.exp(tf.divide(-z, 2*negatedRho))\n",
        "    # Normalization constant\n",
        "    denominator = \\\n",
        "      2 * np.pi * tf.multiply(sxsy, tf.sqrt(negatedRho))\n",
        "  \n",
        "    # Final PDF calculation\n",
        "    result = tf.divide(result, denominator)\n",
        "\n",
        "    return result\n",
        "```\n",
        "To our convenience, Tensorflow is capable of computing the derivatives automatically and we do not need to worry about implementing this bit. All that is left is to choose the optimisation routine.\n",
        "\n",
        "As previously mentioned, we will use L2 regularisation since we want to enforce a single optimsal solution (namely the targeted positions $y_t$). This way we constrain the accuracy during training (or the potential to overfit) by ensuring better generalisation achieved via efficient (in terms of compute) approach. In addition, we clip our gradients between 10 and -10 and ensure we will not face problems associated with exploding gradients. Finally, we will use [RMS-Prop](http://www.cs.toronto.edu/~tijmen/csc321/slides/lecture_slides_lec6.pdf), an unpublished optimisation algorithm. The algorithm is famous for using the second moment representing the variation of the previous gradient squared. As an alternative, we can use Adam [9] which normalises the gradients using first and second moment which also corrects for the bias during training. However, empirically, we found RMS-Prop to work better in this task. We hypothesise that this could be due the fact that we are interested in exploiting some of the biases of motion as we do not aim to generalise to other agents than human beings. You can find out more about different optimisation algorithms in [S. Ruder's blog post](http://ruder.io/optimizing-gradient-descent/).\n",
        "\n",
        "\n",
        "\n",
        "```\n",
        "if self.mode != tf.contrib.learn.ModeKeys.INFER:\n",
        "  with tf.name_scope(\"Optimization\"):\n",
        "    lossfunc = self.get_lossfunc(o_mux, o_muy, o_sx, o_sy, o_corr, x_data, y_data)\n",
        "\n",
        "    self.cost = tf.div(lossfunc, (self.batch_size * self.sequence_length))\n",
        "    trainable_params = tf.trainable_variables()\n",
        "\n",
        "    # apply L2 regularisation\n",
        "    l2 = 0.05 * sum(tf.nn.l2_loss(t_param) for t_param in trainable_params)\n",
        "    self.cost = self.cost + l2\n",
        "    tf.summary.scalar('cost', self.cost)\n",
        "\n",
        "    self.gradients = tf.gradients(self.cost, trainable_params)\n",
        "    grads, _ = tf.clip_by_global_norm(self.gradients, self.grad_clip\n",
        "\n",
        "    # Adam might also do a good job as in Graves (2013)\n",
        "    optimizer = tf.train.RMSPropOptimizer(self.lr)\n",
        "    # Train operator\n",
        "    self.train_op = optimizer.apply_gradients(zip(grads, trainable_params))\n",
        "\n",
        "    self.init = tf.global_variables_initializer()\n",
        "```\n",
        "\n",
        "Finally, we can define the entire model as shown in the section below.\n",
        "\n",
        "\n",
        "\n",
        "\n"
      ]
    },
    {
      "cell_type": "code",
      "metadata": {
        "id": "HMI8LX3TcZwW",
        "outputId": "afabfb41-e7a9-48fc-b96c-36c5b270438f",
        "colab": {
          "base_uri": "https://localhost:8080/",
          "height": 870
        }
      },
      "source": [
        "reset_graph()\n",
        "lstm = BasicLSTM(batch_size=BATCH_SIZE,\n",
        "                 sequence_length=SEQUENCE_LENGTH,\n",
        "                 num_units=NUM_UNITS,\n",
        "                 embedding_size=EMBEDDING,\n",
        "                 learning_rate=LR,\n",
        "                 grad_clip=GRAD_CLIP,\n",
        "                 mode=MODE)"
      ],
      "execution_count": null,
      "outputs": [
        {
          "output_type": "stream",
          "text": [
            "graph successfully reset\n",
            "WARNING:tensorflow:From /content/Stochastic-Futures-Prediction/models/lstm.py:35: The name tf.variable_scope is deprecated. Please use tf.compat.v1.variable_scope instead.\n",
            "\n",
            "WARNING:tensorflow:From /content/Stochastic-Futures-Prediction/models/lstm.py:50: BasicLSTMCell.__init__ (from tensorflow.python.ops.rnn_cell_impl) is deprecated and will be removed in a future version.\n",
            "Instructions for updating:\n",
            "This class is equivalent as tf.keras.layers.LSTMCell, and will be replaced by that in Tensorflow 2.0.\n",
            "WARNING:tensorflow:From /content/Stochastic-Futures-Prediction/models/lstm.py:52: The name tf.placeholder is deprecated. Please use tf.compat.v1.placeholder instead.\n",
            "\n",
            "WARNING:tensorflow:From /content/Stochastic-Futures-Prediction/models/lstm.py:110: The name tf.get_variable is deprecated. Please use tf.compat.v1.get_variable instead.\n",
            "\n",
            "WARNING:tensorflow:From /content/Stochastic-Futures-Prediction/models/lstm.py:119: The name tf.summary.histogram is deprecated. Please use tf.compat.v1.summary.histogram instead.\n",
            "\n",
            "WARNING:tensorflow:From /usr/local/lib/python3.6/dist-packages/tensorflow_core/python/ops/rnn_cell_impl.py:735: Layer.add_variable (from tensorflow.python.keras.engine.base_layer) is deprecated and will be removed in a future version.\n",
            "Instructions for updating:\n",
            "Please use `layer.add_weight` method instead.\n",
            "WARNING:tensorflow:From /usr/local/lib/python3.6/dist-packages/tensorflow_core/python/ops/rnn_cell_impl.py:739: calling Zeros.__init__ (from tensorflow.python.ops.init_ops) with dtype is deprecated and will be removed in a future version.\n",
            "Instructions for updating:\n",
            "Call initializer instance with the dtype argument instead of passing it to the constructor\n",
            "WARNING:tensorflow:From /content/Stochastic-Futures-Prediction/models/lstm.py:143: The name tf.nn.xw_plus_b is deprecated. Please use tf.compat.v1.nn.xw_plus_b instead.\n",
            "\n",
            "WARNING:tensorflow:\n",
            "The TensorFlow contrib module will not be included in TensorFlow 2.0.\n",
            "For more information, please see:\n",
            "  * https://github.com/tensorflow/community/blob/master/rfcs/20180907-contrib-sunset.md\n",
            "  * https://github.com/tensorflow/addons\n",
            "  * https://github.com/tensorflow/io (for I/O related ops)\n",
            "If you depend on functionality not listed there, please file an issue.\n",
            "\n",
            "WARNING:tensorflow:From /content/Stochastic-Futures-Prediction/models/lstm.py:165: The name tf.log is deprecated. Please use tf.math.log instead.\n",
            "\n",
            "WARNING:tensorflow:From /content/Stochastic-Futures-Prediction/models/lstm.py:89: div (from tensorflow.python.ops.math_ops) is deprecated and will be removed in a future version.\n",
            "Instructions for updating:\n",
            "Deprecated in favor of operator or tf.math.divide.\n",
            "WARNING:tensorflow:From /content/Stochastic-Futures-Prediction/models/lstm.py:90: The name tf.trainable_variables is deprecated. Please use tf.compat.v1.trainable_variables instead.\n",
            "\n",
            "WARNING:tensorflow:From /content/Stochastic-Futures-Prediction/models/lstm.py:95: The name tf.summary.scalar is deprecated. Please use tf.compat.v1.summary.scalar instead.\n",
            "\n",
            "WARNING:tensorflow:From /usr/local/lib/python3.6/dist-packages/tensorflow_core/python/ops/math_grad.py:1424: where (from tensorflow.python.ops.array_ops) is deprecated and will be removed in a future version.\n",
            "Instructions for updating:\n",
            "Use tf.where in 2.0, which has the same broadcast rule as np.where\n",
            "WARNING:tensorflow:From /content/Stochastic-Futures-Prediction/models/lstm.py:101: The name tf.train.RMSPropOptimizer is deprecated. Please use tf.compat.v1.train.RMSPropOptimizer instead.\n",
            "\n",
            "WARNING:tensorflow:From /usr/local/lib/python3.6/dist-packages/tensorflow_core/python/training/rmsprop.py:119: calling Ones.__init__ (from tensorflow.python.ops.init_ops) with dtype is deprecated and will be removed in a future version.\n",
            "Instructions for updating:\n",
            "Call initializer instance with the dtype argument instead of passing it to the constructor\n",
            "WARNING:tensorflow:From /content/Stochastic-Futures-Prediction/models/lstm.py:105: The name tf.global_variables_initializer is deprecated. Please use tf.compat.v1.global_variables_initializer instead.\n",
            "\n",
            "WARNING:tensorflow:From /content/Stochastic-Futures-Prediction/models/lstm.py:44: The name tf.Session is deprecated. Please use tf.compat.v1.Session instead.\n",
            "\n"
          ],
          "name": "stdout"
        }
      ]
    },
    {
      "cell_type": "markdown",
      "metadata": {
        "id": "Da_JDErlcmpd"
      },
      "source": [
        "## Training\n",
        "\n",
        "Now that we have defined the entire model, we can start training the neural network. The idea of each step is to take one batch and predict the next position for each of the agents and positions. The result is then compared to the target values through the associated loss function we defined earlier."
      ]
    },
    {
      "cell_type": "code",
      "metadata": {
        "id": "uxD2YA4PdJ4m",
        "outputId": "8da370db-8739-4a89-d198-23a843157109",
        "colab": {
          "base_uri": "https://localhost:8080/",
          "height": 680
        }
      },
      "source": [
        "for e in range(NUM_EPOCHS):\n",
        "    # Assign the learning rate (decayed acc. to the epoch number)\n",
        "    lstm.sess.run(tf.assign(lstm.lr, lstm.learning_rate * (DECAY_RATE ** e)))\n",
        "    # Reset the pointers in the data loader object\n",
        "    pointer = data_tools.reset_batch_pointer()\n",
        "    # Get the initial cell state of the LSTM\n",
        "    state = lstm.sess.run(lstm.initial_state)\n",
        "\n",
        "    # For each batch in this epoch\n",
        "    for b in range(num_batches):\n",
        "        start = time.time()\n",
        "        # Get the source and target data of the current batch\n",
        "        # x has the source data, y has the target data\n",
        "        x, y, pointer = data_tools.next_batch(\n",
        "            loaded_data, pointer, BATCH_SIZE, SEQUENCE_LENGTH)\n",
        "        x = np.array(x)\n",
        "        y = np.array(y)\n",
        "\n",
        "        # Feed the source, target data and the initial LSTM state to the model\n",
        "        feed = {\n",
        "            lstm.input_data: x[:, :, 1:],\n",
        "            lstm.target_data: y[:, :, 1:],\n",
        "            lstm.initial_state: state\n",
        "        }\n",
        "        # Fetch the loss of the model on this batch,\n",
        "        # the final LSTM state from the session\n",
        "        train_loss, state, _ = lstm.sess.run(\n",
        "            [lstm.cost, lstm.final_state, lstm.train_op], feed)\n",
        "        # Toc\n",
        "        end = time.time()\n",
        "\n",
        "        cur_time = end - start\n",
        "        step = e * num_batches + b\n",
        "\n",
        "        avg_time += cur_time\n",
        "        avg_loss += train_loss\n",
        "\n",
        "        # Print epoch, batch, loss and time taken\n",
        "        if (step%99) == 0:\n",
        "            print(\n",
        "                \"{}/{} (epoch {}), train_loss = {:.3f}, time/batch = {:.3f}\"\n",
        "                .format(\n",
        "                    step,\n",
        "                    NUM_EPOCHS * num_batches,\n",
        "                    e,\n",
        "                    avg_loss/99.0, avg_time/99.0))\n",
        "\n",
        "            avg_time = 0\n",
        "            avg_loss = 0\n",
        "\n",
        "os.makedirs(SAVE_PATH, exist_ok=True)\n",
        "# Save parameters after the network is trained\n",
        "lstm.save_json(os.path.join(SAVE_PATH, \"params.json\"))"
      ],
      "execution_count": null,
      "outputs": [
        {
          "output_type": "stream",
          "text": [
            "0/3800 (epoch 0), train_loss = -0.011, time/batch = 0.000\n",
            "99/3800 (epoch 2), train_loss = -0.035, time/batch = 0.018\n",
            "198/3800 (epoch 5), train_loss = -1.318, time/batch = 0.017\n",
            "297/3800 (epoch 7), train_loss = -1.438, time/batch = 0.018\n",
            "396/3800 (epoch 10), train_loss = -1.597, time/batch = 0.019\n",
            "495/3800 (epoch 13), train_loss = -2.131, time/batch = 0.018\n",
            "594/3800 (epoch 15), train_loss = -2.037, time/batch = 0.017\n",
            "693/3800 (epoch 18), train_loss = -2.396, time/batch = 0.018\n",
            "792/3800 (epoch 20), train_loss = -2.554, time/batch = 0.017\n",
            "891/3800 (epoch 23), train_loss = -2.687, time/batch = 0.017\n",
            "990/3800 (epoch 26), train_loss = -2.884, time/batch = 0.019\n",
            "1089/3800 (epoch 28), train_loss = -2.930, time/batch = 0.017\n",
            "1188/3800 (epoch 31), train_loss = -3.117, time/batch = 0.017\n",
            "1287/3800 (epoch 33), train_loss = -3.355, time/batch = 0.017\n",
            "1386/3800 (epoch 36), train_loss = -3.234, time/batch = 0.017\n",
            "1485/3800 (epoch 39), train_loss = -3.402, time/batch = 0.018\n",
            "1584/3800 (epoch 41), train_loss = -3.463, time/batch = 0.017\n",
            "1683/3800 (epoch 44), train_loss = -3.551, time/batch = 0.017\n",
            "1782/3800 (epoch 46), train_loss = -3.704, time/batch = 0.017\n",
            "1881/3800 (epoch 49), train_loss = -3.566, time/batch = 0.017\n",
            "1980/3800 (epoch 52), train_loss = -3.763, time/batch = 0.017\n",
            "2079/3800 (epoch 54), train_loss = -3.676, time/batch = 0.017\n",
            "2178/3800 (epoch 57), train_loss = -3.630, time/batch = 0.017\n",
            "2277/3800 (epoch 59), train_loss = -3.768, time/batch = 0.017\n",
            "2376/3800 (epoch 62), train_loss = -3.643, time/batch = 0.017\n",
            "2475/3800 (epoch 65), train_loss = -3.806, time/batch = 0.017\n",
            "2574/3800 (epoch 67), train_loss = -3.867, time/batch = 0.017\n",
            "2673/3800 (epoch 70), train_loss = -3.493, time/batch = 0.017\n",
            "2772/3800 (epoch 72), train_loss = -3.818, time/batch = 0.017\n",
            "2871/3800 (epoch 75), train_loss = -3.682, time/batch = 0.017\n",
            "2970/3800 (epoch 78), train_loss = -3.508, time/batch = 0.017\n",
            "3069/3800 (epoch 80), train_loss = -3.910, time/batch = 0.017\n",
            "3168/3800 (epoch 83), train_loss = -3.669, time/batch = 0.017\n",
            "3267/3800 (epoch 85), train_loss = -3.856, time/batch = 0.017\n",
            "3366/3800 (epoch 88), train_loss = -3.575, time/batch = 0.017\n",
            "3465/3800 (epoch 91), train_loss = -3.847, time/batch = 0.016\n",
            "3564/3800 (epoch 93), train_loss = -3.854, time/batch = 0.017\n",
            "3663/3800 (epoch 96), train_loss = -3.616, time/batch = 0.017\n",
            "3762/3800 (epoch 99), train_loss = -3.860, time/batch = 0.017\n"
          ],
          "name": "stdout"
        }
      ]
    },
    {
      "cell_type": "markdown",
      "metadata": {
        "id": "jhN76pkzdNLk"
      },
      "source": [
        "## Inference\n",
        "\n",
        "After training is complete, we can start using it and infer the positions of agents in a never seen before data. When predicting trajectories of this type we assume that the agents observed have already walked for some time and we have the associated observed annotations. Thus, we \"preload\" the LSTM with the manner of walking of a particualr agent. Thus, we condition the associated predictions to the manner of walking, direction and behaviour of a considered agent. In addition we set the batch size to 1 and load the never seen before data set.\n",
        "\n",
        "We sample from the predicted 2D Gaussian distribution in the following way:\n"
      ]
    },
    {
      "cell_type": "markdown",
      "metadata": {
        "id": "Aawb17YQdhu1"
      },
      "source": [
        "```\n",
        "def sample_2d_normal(o_mux, o_muy, o_sx, o_sy, o_corr):\n",
        "  '''\n",
        "  Function that samples from a multivariate Gaussian\n",
        "  That has the statistics computed by the network.\n",
        "  '''\n",
        "  mean = [o_mux[0][0], o_muy[0][0]]\n",
        "  # Extract covariance matrix\n",
        "  cov = [[o_sx[0][0]*o_sx[0][0], o_corr[0][0]*o_sx[0][0]*o_sy[0][0]], [o_corr[0][0]*o_sx[0][0]*o_sy[0][0], o_sy[0][0]*o_sy[0][0]]]\n",
        "  # Sample a point from the multivariate normal distribution\n",
        "  sampled_x = np.random.multivariate_normal(mean, cov, 1)\n",
        "\n",
        "  return sampled_x[0][0], sampled_x[0][1]\n",
        "```"
      ]
    },
    {
      "cell_type": "code",
      "metadata": {
        "id": "X6fAe9ZvdsYx",
        "outputId": "478cc151-a955-439b-b5fb-648a82af6416",
        "colab": {
          "base_uri": "https://localhost:8080/",
          "height": 34
        }
      },
      "source": [
        "BATCH_SIZE = 1\n",
        "OBSERVED_LENGTH = 4\n",
        "PREDICTED_LENGTH = 4\n",
        "SEQUENCE_LENGTH = OBSERVED_LENGTH + PREDICTED_LENGTH\n",
        "\n",
        "# load new dataset\n",
        "test_directory = \"data/seq_hotel\"\n",
        "agents_data, statistics, peds_in_frame = \\\n",
        "  data_tools.mil_to_pixels(test_directory)\n",
        "data, num_batches = \\\n",
        "  data_tools.load_preprocessed(agents_data, BATCH_SIZE, SEQUENCE_LENGTH)\n",
        "\n",
        "reset_graph() # reset the graph\n",
        "lstm = BasicLSTM(batch_size=1, sequence_length=1, mode='infer')\n",
        "lstm.load_json(os.path.join(SAVE_PATH, \"params.json\"))\n",
        "\n",
        "# initialise the LSTM and reset the batch pointer\n",
        "state = lstm.sess.run(lstm.initial_state)\n",
        "pointer = data_tools.reset_batch_pointer()\n",
        "\n",
        "# collect results\n",
        "test_traj = []\n",
        "xs = []\n",
        "ys = []\n",
        "total_error = 0"
      ],
      "execution_count": null,
      "outputs": [
        {
          "output_type": "stream",
          "text": [
            "graph successfully reset\n"
          ],
          "name": "stdout"
        }
      ]
    },
    {
      "cell_type": "markdown",
      "metadata": {
        "id": "GYeRVXRzdw7G"
      },
      "source": [
        "For a given trajectory, the idea is to simply update the cell state at each step using the final cell state value from our previous prediction.\n",
        "\n",
        "We then measure the performance of the network through the average displacement error."
      ]
    },
    {
      "cell_type": "code",
      "metadata": {
        "id": "pHWfkyGPdwFd",
        "outputId": "ed367422-a009-4cce-b51c-4d7d92bab5c2",
        "colab": {
          "base_uri": "https://localhost:8080/",
          "height": 221
        }
      },
      "source": [
        "for b in range(num_batches):\n",
        "    start = time.time()\n",
        "    # Get the source and target data of the current batch\n",
        "    # x has the source data, y has the target data\n",
        "    x, y, pointer = \\\n",
        "      data_tools.next_batch(data, pointer, BATCH_SIZE, SEQUENCE_LENGTH)\n",
        "    x = np.array(x)\n",
        "    y = np.array(y)\n",
        "\n",
        "    obs_traj = x[0,:OBSERVED_LENGTH, 1:]\n",
        "    for position in obs_traj[:-1]:\n",
        "        # Create the input data tensor\n",
        "        input_data_tensor = np.zeros((1, 1, 2), dtype=np.float32)\n",
        "        input_data_tensor[0, 0, 0] = position[0]  # x\n",
        "        input_data_tensor[0, 0, 1] = position[1]  # y\n",
        "\n",
        "        # Create the feed dict\n",
        "        feed = {lstm.input_data: input_data_tensor, lstm.initial_state: state}\n",
        "        # Get the final state after processing the current position\n",
        "        [state] = lstm.sess.run([lstm.final_state], feed)\n",
        "\n",
        "    returned_traj = obs_traj\n",
        "    last_position = obs_traj[-1]\n",
        "\n",
        "    prev_data = np.zeros((1, 1, 2), dtype=np.float32)\n",
        "    prev_data[0, 0, 0] = last_position[0]  # x\n",
        "    prev_data[0, 0, 1] = last_position[1]  # y\n",
        "\n",
        "    prev_target_data = np.reshape(x[0][obs_traj.shape[0], 1:], (1, 1, 2))\n",
        "    for t in range(PREDICTED_LENGTH):\n",
        "        feed = {\n",
        "            lstm.input_data: prev_data,\n",
        "            lstm.initial_state: state,\n",
        "            lstm.target_data: prev_target_data}\n",
        "        [o_mux, o_muy, o_sx, o_sy, o_corr, state] = lstm.sess.run(\n",
        "            [lstm.mux, lstm.muy, lstm.sx, lstm.sy, lstm.corr, lstm.final_state],\n",
        "            feed)\n",
        "\n",
        "\n",
        "        next_x, next_y = \\\n",
        "          distributions.sample_2d_normal(o_mux, o_muy, o_sx, o_sy, o_corr)\n",
        "        returned_traj = np.vstack((returned_traj, [next_x, next_y]))\n",
        "\n",
        "        prev_data[0, 0, 0] = next_x\n",
        "        prev_data[0, 0, 1] = next_y\n",
        "\n",
        "    complete_traj = returned_traj\n",
        "\n",
        "    total_error += \\\n",
        "      distributions.get_mean_error(complete_traj, x[0, :, 1:], OBSERVED_LENGTH)\n",
        "    if (b+1) % 50 == 0:\n",
        "        print(\"Processed trajectory number : \",\n",
        "              b+1, \"out of \", num_batches, \" trajectories\")\n",
        "\n",
        "print(\"Total mean error of the model is \", total_error/num_batches)"
      ],
      "execution_count": null,
      "outputs": [
        {
          "output_type": "stream",
          "text": [
            "Processed trajectory number :  50 out of  563  trajectories\n",
            "Processed trajectory number :  100 out of  563  trajectories\n",
            "Processed trajectory number :  150 out of  563  trajectories\n",
            "Processed trajectory number :  200 out of  563  trajectories\n",
            "Processed trajectory number :  250 out of  563  trajectories\n",
            "Processed trajectory number :  300 out of  563  trajectories\n",
            "Processed trajectory number :  350 out of  563  trajectories\n",
            "Processed trajectory number :  400 out of  563  trajectories\n",
            "Processed trajectory number :  450 out of  563  trajectories\n",
            "Processed trajectory number :  500 out of  563  trajectories\n",
            "Processed trajectory number :  550 out of  563  trajectories\n",
            "Total mean error of the model is  0.09417452735594731\n"
          ],
          "name": "stdout"
        }
      ]
    },
    {
      "cell_type": "markdown",
      "metadata": {
        "id": "8wUjJgywg_5y"
      },
      "source": [
        "# Experimental Results\n",
        "\n",
        "We extimate the quality of the proposed solution using two ways; first one is using the mean squared error between the predicted points and the target distribution. Second, we visualise the behaviour using OpenCV and Matplotlib.\n",
        "\n",
        "\n",
        "Predicting 4 steps ahead ($T_{pred}=4$), observing 4 steps ($T_{obs}=4$) we obtain 563 trajectories in total with an average mean suqared error of 0.088. We then visualise the result in the following plot.![alt text](https://dev.bg/wp-content/uploads/2018/11/inference.gif)\n",
        "\n",
        "As you can see the result (in purple) matches the real trajectory (in green) for the first 4 steps since we observed them. However, the followed up predictions (except the first, direct one) do not do as well. The reason for this is that the distribution from which each step is sampled is conditioned on the previously predicted position. Thus, the accumulated error is itself multplicative and leads to such poor behaviour. A few ways to fix this is by iteratively computing each trajectory ignoring the empty steps, by providing more training data or providing more meaningful inputs. Iteratively computing each trajectory together with the rest of the trajectories from the same frame sequence is a relatively simple work around that deems a lot better solutiuons. Motion is conditioned on the surrounding trajectories and optimising each of them along with its neighbours makes a lot of sense. [Tutorial 2](https://github.com/yadrimz/Stochastic-Futures-Prediction/blob/master/notebooks/Tutorial%202.ipynb) from this post's [GitHub repository](https://github.com/yadrimz/Stochastic-Futures-Prediction) shows one way of reducing the error exponentially by following this simple trick.\n",
        "\n"
      ]
    },
    {
      "cell_type": "markdown",
      "metadata": {
        "id": "Gyo04IR0CsAx"
      },
      "source": [
        "# Conclusion\n",
        "\n",
        "The problem of trajectory modelling is relatively old. Principalled approaches prior to the utilisation of neural solutions use Kalman filters, social utility functions [10] and factorised, interactive Gaussian processes [11]. Albeit the accuracy of some of them, they all assume a lot more prior knowledge prior to modelling the trajectories. Utilising LSTMs, however, extracts the behaviour entirely from data which can be extremely useful in cases where such inductive information is not present. However, it requires larger amounts of data.\n",
        "\n",
        "One potential way to improve the associated results is by utilising rough inductive biases, ideally extracted in an unsupervised manner. This way, we can ensure a more informed representation that is conditioned on some improtant to each dataset information. One example is utilising both spatial and global dynamics to improve the discussed previously in this blog post representations. Spatial representations would extract static information that is inherent to the given dataset, such as existing trees, surrounding snow etc. While global dynamics deals with modelling the unspoken rules for motion such as the general direction of motion, the way of surpassing individual agents or places agents tend to stay in place, such as at bus stops when waiting for the next bus. [6] models the global social dynamics between agents while [12] utilises both spatial and global dynamics by imputing to features extracted in an unsupervised way. [The webpage](https://sites.google.com/view/rdb-agents/home) associated with [12] provides a summary on one way for incorporating inductive biases in a modular way which preserves the small data requirements."
      ]
    },
    {
      "cell_type": "markdown",
      "metadata": {
        "id": "ASCpxr1ueCPL"
      },
      "source": [
        "As a quick step towards improving the results we can optimise batches of random sequences of frames instead of optimising batches of random agents. Intuitively, we would like to make sure that we will optimise all agents who are moving alongside together which would essentially consist of a more accurate approximation of the considered data. Further, we will optimise each agent individually and discard all empty slots and apply a few other small tricks. More information can be found in the associated notebook called [Tutorial 2](https://github.com/yadrimz/Stochastic-Futures-Prediction/blob/master/notebooks/Tutorial%202.ipynb). A sample from the resulted solution can be seen bellow.\n",
        "\n",
        "![Tutorial 2 result](https://drive.google.com/uc?export=view&id=168tMhQOgaecxUeM7WT_0AXw_cmtANIp_)\n",
        "\n"
      ]
    },
    {
      "cell_type": "markdown",
      "metadata": {
        "id": "UH_FntjsFJWw"
      },
      "source": [
        "# References\n",
        "\n",
        "[1] Hochreiter, S. and Schmidhuber, J., 1997. Long short-term memory. Neural computation, 9(8), pp.1735–1780.\n",
        "[2] Graves, A., Mohamed, A.R. and Hinton, G., 2013, May. Speech recognition with deep recurrent neural networks. In Acoustics, speech and signal processing (icassp), 2013 ieee international conference on (pp. 6645–6649). IEEE.\n",
        "\n",
        "[3] Bowman, S.R., Gauthier, J., Rastogi, A., Gupta, R., Manning, C.D. and Potts, C., 2016. A fast unified model for parsing and sentence understanding. arXiv preprint arXiv:1603.06021.\n",
        "\n",
        "[4] Sutskever, I., Vinyals, O. and Le, Q.V., 2014. Sequence to sequence learning with neural networks. In Advances in neural information processing systems (pp. 3104–3112).\n",
        "\n",
        "[5] Yücel, Z., Zanlungo, F., Ikeda, T., Miyashita, T. and Hagita, N., 2013. Deciphering the crowd: Modeling and identification of pedestrian group motion. Sensors, 13(1), pp.875–897.\n",
        "\n",
        "[6] Alahi, A., Goel, K., Ramanathan, V., Robicquet, A., Fei-Fei, L. and Savarese, S., 2016. Social lstm: Human trajectory prediction in crowded spaces. In Proceedings of the IEEE Conference on Computer Vision and Pattern Recognition (pp. 961–971).\n",
        "\n",
        "[7] Lerner, A., Chrysanthou, Y. and Lischinski, D., 2007, September. Crowds by example. In Computer Graphics Forum (Vol. 26, №3, pp. 655–664). Oxford, UK: Blackwell Publishing Ltd.\n",
        "\n",
        "[8] Graves, A., 2013. Generating sequences with recurrent neural networks. arXiv preprint arXiv:1308.0850.\n",
        "\n",
        "[9] Kingma, D. P., & Ba, J. L. (2015). Adam: a Method for Stochastic Optimization. International Conference on Learning Representations, 1–13.\n",
        "\n",
        "[10] Yamaguchi, K., Berg, A.C., Ortiz, L.E. and Berg, T.L., 2011, June. Who are you with and where are you going?. In Computer Vision and Pattern Recognition (CVPR), 2011 IEEE Conference on(pp. 1345–1352). IEEE.\n",
        "\n",
        "[11] Trautman, P. and Krause, A., 2010, October. Unfreezing the robot: Navigation in dense, interacting crowds. In Intelligent Robots and Systems (IROS), 2010 IEEE/RSJ International Conference on (pp. 797–803).\n",
        "\n",
        "[12] Davchev, T., Burke, M. and Ramamoorthy, S., 2019. Learning Modular Representations for Long-Term Multi-Agent Motion Predictions. arXiv preprint arXiv:1911.13044."
      ]
    },
    {
      "cell_type": "markdown",
      "metadata": {
        "id": "2W9KCG7WZ2BW"
      },
      "source": [
        "# Acknowledgements\n",
        "Special thanks to J. Geary, S. Smith, D. Angelov, M. Asenov and H. Velev for providing very useful insight about the writing style and clarity of expression for the tutorial and to A. Vemula for providing the Matlab scripts for annotating UCY and ETH University data sets. This has helped me reduce the time required for setting up this tutorial and provide a comprehensive means to communicate the ideas behind this code."
      ]
    }
  ]
}